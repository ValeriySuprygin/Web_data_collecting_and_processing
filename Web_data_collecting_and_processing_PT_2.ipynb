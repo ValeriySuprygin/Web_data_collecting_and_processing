{
 "cells": [
  {
   "cell_type": "markdown",
   "id": "6848ec0e",
   "metadata": {},
   "source": [
    "## Практическое задание №1."
   ]
  },
  {
   "cell_type": "markdown",
   "id": "13018cc8",
   "metadata": {},
   "source": [
    "1. Написать функцию, которая собирает основные новости с сайта на выбор [Lenta.ru](https://lenta.ru/) или [yandex-новости](https://dzen.ru/news?issue_tld=ru). Для парсинга использовать XPath.\n",
    "\n",
    "Структура данных должна содержать:\n",
    "- название источника;\n",
    "- наименование новости;\n",
    "- ссылку на новость;\n",
    "- дата публикации"
   ]
  },
  {
   "cell_type": "markdown",
   "id": "96c5a08d",
   "metadata": {},
   "source": [
    "Решил немного отойти от задания и выбрал новостную ленту [Rambler.ru](https://www.rambler.ru/). Новости в ленте меняются по времени в течение суток, но судя по разметке сайта скрипт ниже будет работать в любой день и получать данные примерно в 30-мин период."
   ]
  },
  {
   "cell_type": "code",
   "execution_count": 1,
   "id": "39c6cc25",
   "metadata": {},
   "outputs": [],
   "source": [
    "from pprint import pprint\n",
    "from lxml import html\n",
    "import requests"
   ]
  },
  {
   "cell_type": "code",
   "execution_count": 2,
   "id": "b0a1b22b",
   "metadata": {},
   "outputs": [],
   "source": [
    "agent = 'Mozilla/5.0 (Windows NT 10.0; Win64; x64) AppleWebKit/537.36 (KHTML, like Gecko) Chrome/108.0.0.0 Safari/537.36'\n",
    "url_rambler = 'https://www.rambler.ru/'"
   ]
  },
  {
   "cell_type": "code",
   "execution_count": 3,
   "id": "c30b8775",
   "metadata": {},
   "outputs": [],
   "source": [
    "headers = {\n",
    "    'User_agent': agent,\n",
    "}"
   ]
  },
  {
   "cell_type": "code",
   "execution_count": 4,
   "id": "d7fcfc49",
   "metadata": {},
   "outputs": [],
   "source": [
    "def get_dom(url, headers=None, params=None):\n",
    "    response = requests.get(url, headers=headers, params=params)\n",
    "    dom = html.fromstring(response.text)\n",
    "    \n",
    "    return dom"
   ]
  },
  {
   "cell_type": "code",
   "execution_count": 5,
   "id": "fef242c1",
   "metadata": {},
   "outputs": [],
   "source": [
    "# новостная лента на 03.01.2023\n",
    "\n",
    "def parser_rambler(dom):\n",
    "    news_box = dom.xpath(\"//div[contains(@class, 'r-ODCxBDKK')]\")\n",
    "    \n",
    "    rambler_news = []\n",
    "    for new_box in news_box:\n",
    "        new_source = new_box.xpath(\".//span[@class='r-PvgXsGvF']/text()\")[2]\n",
    "        new_text = new_box.xpath(\".//a[@class='r-jZG2njEF']//@title\")[0]\n",
    "        new_url = new_box.xpath(\".//a[@class='r-jZG2njEF']//@href\")[0]\n",
    "        new_time = new_box.xpath(\".//span[@class='r-OgQ0pvJx']/text()\")[0]\n",
    "        \n",
    "        rambler_news_dict = {\n",
    "            'Time': new_time,\n",
    "            'Source': new_source,\n",
    "            'Description': new_text,\n",
    "            'New_url': new_url \n",
    "        }\n",
    "        \n",
    "        rambler_news.append(rambler_news_dict)\n",
    "        \n",
    "    return rambler_news"
   ]
  },
  {
   "cell_type": "code",
   "execution_count": 6,
   "id": "4e1d1620",
   "metadata": {},
   "outputs": [],
   "source": [
    "rambler_dom = get_dom(url_rambler, headers=headers)"
   ]
  },
  {
   "cell_type": "code",
   "execution_count": 7,
   "id": "a348dd74",
   "metadata": {},
   "outputs": [
    {
     "data": {
      "text/plain": [
       "[{'Time': '15:19',\n",
       "  'Source': 'Car.ru',\n",
       "  'Description': 'В Россию из Китая приехал электрический кроссовер Avatr 11',\n",
       "  'New_url': 'https://auto.rambler.ru/news/49976141-v-rossiyu-iz-kitaya-priehal-elektricheskiy-krossover-avatr-11/'},\n",
       " {'Time': '15:17',\n",
       "  'Source': 'Газета.Ru',\n",
       "  'Description': 'МО: ВС РФ продолжают наступление на Донецком направлении',\n",
       "  'New_url': 'https://news.rambler.ru/army/49976145-mo-vs-rf-prodolzhayut-nastuplenie-na-donetskom-napravlenii/'},\n",
       " {'Time': '15:16',\n",
       "  'Source': 'Мослента',\n",
       "  'Description': 'Названа станция БКЛ со «звездным небом»',\n",
       "  'New_url': 'https://news.rambler.ru/moscow_city/49974986-nazvana-stantsiya-bkl-so-zvezdnym-nebom/'},\n",
       " {'Time': '15:12',\n",
       "  'Source': 'Lenta.ru',\n",
       "  'Description': 'В России назвали возможный ответ на военные угрозы Японии',\n",
       "  'New_url': 'https://news.rambler.ru/politics/49976131-v-rossii-nazvali-vozmozhnyy-otvet-na-voennye-ugrozy-yaponii/'},\n",
       " {'Time': '15:11',\n",
       "  'Source': 'Игромания.ру',\n",
       "  'Description': 'Square Enix планирует анонсировать еще больше игр с блокчейном в этом году',\n",
       "  'New_url': 'https://news.rambler.ru/games/49975880-square-enix-planiruet-anonsirovat-esche-bolshe-igr-s-blokcheynom-v-etom-godu/'},\n",
       " {'Time': '15:07',\n",
       "  'Source': 'Вечерняя Москва',\n",
       "  'Description': 'Москвичам рассказали об обновлении стикеров с информацией в автобусах и электробусах',\n",
       "  'New_url': 'https://news.rambler.ru/moscow_city/49975985-moskvicham-rasskazali-ob-obnovlenii-stikerov-s-informatsiey-v-avtobusah-i-elektrobusah/'},\n",
       " {'Time': '15:05',\n",
       "  'Source': 'RT на русском',\n",
       "  'Description': 'ВС России ликвидировали более 130 иностранных наемников в ДНР',\n",
       "  'New_url': 'https://news.rambler.ru/army/49973512-vs-rossii-likvidirovali-bolee-130-inostrannyh-naemnikov-v-dnr/'},\n",
       " {'Time': '14:58',\n",
       "  'Source': 'Рамблер',\n",
       "  'Description': 'У игрока НФЛ Хэмлина остановились сердце во время матча',\n",
       "  'New_url': 'https://sport.rambler.ru/summer/49976084-u-igroka-nfl-hemlina-ostanovilis-serdtse-vo-vremya-matcha/'},\n",
       " {'Time': '14:56',\n",
       "  'Source': 'Рамблер',\n",
       "  'Description': 'Одна из самых дорогих пилотных серий в мире: видео',\n",
       "  'New_url': 'https://kino.rambler.ru/series/49959405-odna-iz-samyh-dorogih-pilotnyh-seriy-za-vsyu-istoriyu-serialov-video/'},\n",
       " {'Time': '14:56',\n",
       "  'Source': 'Рамблер',\n",
       "  'Description': 'Как и зачем колдунья лишила африканского ребенка зрения',\n",
       "  'New_url': 'https://weekend.rambler.ru/read/49294876-kak-i-zachem-koldunya-lishila-afrikanskogo-rebenka-zreniya/'},\n",
       " {'Time': '14:56',\n",
       "  'Source': 'Рамблер',\n",
       "  'Description': 'Почему нельзя пить кровь: мнение ученых',\n",
       "  'New_url': 'https://doctor.rambler.ru/medscience/49815027-pochemu-nelzya-pit-krov-mnenie-uchenyh/'},\n",
       " {'Time': '14:56',\n",
       "  'Source': 'Рамблер',\n",
       "  'Description': 'Лучшие места Сочи для того, чтобы сделать идеальный снимок',\n",
       "  'New_url': 'https://travel.rambler.ru/lifehack/49958311-luchshie-mesta-sochi-dlya-togo-chtoby-sdelat-idealnyy-snimok-video/'},\n",
       " {'Time': '14:56',\n",
       "  'Source': 'Рамблер',\n",
       "  'Description': '3 звездные матери, которые выплачивают алименты экс-мужьям',\n",
       "  'New_url': 'https://woman.rambler.ru/stars/49841405-3-zvezdnye-materi-kotorye-vyplachivayut-alimenty-eks-muzhyam/'},\n",
       " {'Time': '14:51',\n",
       "  'Source': 'Авторадио',\n",
       "  'Description': 'В России возобновили программу льготного автокредитования',\n",
       "  'New_url': 'https://auto.rambler.ru/news/49976071-v-rossii-vozobnovili-programmu-lgotnogo-avtokreditovaniya/'},\n",
       " {'Time': '14:50',\n",
       "  'Source': 'Деловая газета \"Взгляд\"',\n",
       "  'Description': 'В Турции назвали условие встречи Эрдогана и Асада',\n",
       "  'New_url': 'https://news.rambler.ru/world/49976049-v-turtsii-nazvali-uslovie-vstrechi-erdogana-i-asada/'},\n",
       " {'Time': '14:43',\n",
       "  'Source': 'Говорит Москва',\n",
       "  'Description': 'В Стамбуле задержали готовившего теракты иностранца',\n",
       "  'New_url': 'https://news.rambler.ru/incidents/49976005-v-stambule-zaderzhali-planirovavshego-napadeniya-na-turistov-inostrantsa/'},\n",
       " {'Time': '14:40',\n",
       "  'Source': 'Lenta.ru',\n",
       "  'Description': 'Мужчина нанес возлюбленной 30 ударов ножом после фотосессии',\n",
       "  'New_url': 'https://news.rambler.ru/incidents/49975655-muzhchina-nanes-vozlyublennoy-30-udarov-nozhom-posle-fotosessii/'},\n",
       " {'Time': '14:40',\n",
       "  'Source': 'Газета.Ru',\n",
       "  'Description': 'Доза алкоголя, которая может вызвать депрессию к концу праздников',\n",
       "  'New_url': 'https://woman.rambler.ru/novyy-god-2023/49975666-psiholog-nazvala-dozu-alkogolya-kotoraya-mozhet-vyzvat-depressiyu-k-kontsu-prazdnikov/'},\n",
       " {'Time': '14:40',\n",
       "  'Source': 'Матч ТВ',\n",
       "  'Description': 'Карацев вышел во второй круг турнира в Индии',\n",
       "  'New_url': 'https://sport.rambler.ru/tennis/49976039-karatsev-vyshel-vo-vtoroy-krug-turnira-v-indii/'},\n",
       " {'Time': '14:40',\n",
       "  'Source': 'Секрет Фирмы',\n",
       "  'Description': 'Популярный витамин уличили в провоцировании рака и «метастаз в мозге»',\n",
       "  'New_url': 'https://doctor.rambler.ru/pharma/49975383-populyarnyy-vitamin-ulichili-v-provotsirovanii-raka-i-metastaz-v-mozge/'}]"
      ]
     },
     "execution_count": 7,
     "metadata": {},
     "output_type": "execute_result"
    }
   ],
   "source": [
    "# данные на 03.01.2023 [15:34]\n",
    "\n",
    "parser_rambler(rambler_dom)"
   ]
  },
  {
   "cell_type": "code",
   "execution_count": null,
   "id": "8f53ac00",
   "metadata": {},
   "outputs": [],
   "source": []
  }
 ],
 "metadata": {
  "kernelspec": {
   "display_name": "Python 3 (ipykernel)",
   "language": "python",
   "name": "python3"
  },
  "language_info": {
   "codemirror_mode": {
    "name": "ipython",
    "version": 3
   },
   "file_extension": ".py",
   "mimetype": "text/x-python",
   "name": "python",
   "nbconvert_exporter": "python",
   "pygments_lexer": "ipython3",
   "version": "3.9.12"
  }
 },
 "nbformat": 4,
 "nbformat_minor": 5
}
