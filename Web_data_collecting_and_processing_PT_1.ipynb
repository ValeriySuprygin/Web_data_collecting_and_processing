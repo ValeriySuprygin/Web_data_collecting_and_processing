{
 "cells": [
  {
   "cell_type": "markdown",
   "id": "e344d02f",
   "metadata": {},
   "source": [
    "## Практическое задание №1."
   ]
  },
  {
   "cell_type": "markdown",
   "id": "6204b32b",
   "metadata": {},
   "source": [
    "1. Посмотреть документацию к API GitHub, разобраться как вывести список репозиториев для конкретного пользователя, сохранить JSON-вывод в файле *.json."
   ]
  },
  {
   "cell_type": "code",
   "execution_count": 1,
   "id": "5e4ba2d9",
   "metadata": {},
   "outputs": [],
   "source": [
    "import requests\n",
    "import json"
   ]
  },
  {
   "cell_type": "code",
   "execution_count": 2,
   "id": "52d66d9a",
   "metadata": {},
   "outputs": [],
   "source": [
    "url = 'https://api.github.com'\n",
    "user='valeriysuprygin'"
   ]
  },
  {
   "cell_type": "code",
   "execution_count": 3,
   "id": "f643e5e8",
   "metadata": {},
   "outputs": [
    {
     "data": {
      "text/plain": [
       "<Response [200]>"
      ]
     },
     "execution_count": 3,
     "metadata": {},
     "output_type": "execute_result"
    }
   ],
   "source": [
    "req = requests.get(f'{url}/users/{user}/repos')\n",
    "req"
   ]
  },
  {
   "cell_type": "code",
   "execution_count": 4,
   "id": "2d07ed08",
   "metadata": {},
   "outputs": [],
   "source": [
    "with open('data.json', 'w') as f:\n",
    "    json.dump(req.json(), f)\n",
    "    \n",
    "# req.json()[0]"
   ]
  },
  {
   "cell_type": "code",
   "execution_count": 5,
   "id": "279469d1",
   "metadata": {},
   "outputs": [
    {
     "name": "stdout",
     "output_type": "stream",
     "text": [
      "Linear-Algebra\n",
      "Probability_theory\n",
      "PT\n",
      "Py_library_to_DS\n",
      "Web_data_collecting_and_processing\n"
     ]
    }
   ],
   "source": [
    "for i in req.json():\n",
    "    print(i['name'])"
   ]
  },
  {
   "cell_type": "markdown",
   "id": "31583fed",
   "metadata": {},
   "source": [
    "2. Изучить список открытых API (https://www.programmableweb.com/category/all/apis). Найти среди них любое, требующее авторизацию (любого типа). Выполнить запросы к нему, пройдя авторизацию. Ответ сервера записать в файл.\n",
    "Если нет желания заморачиваться с поиском, возьмите API вконтакте (https://vk.com/dev/first_guide). Сделайте запрос, чтобы получить список всех сообществ на которые вы подписаны."
   ]
  },
  {
   "cell_type": "markdown",
   "id": "81cee55f",
   "metadata": {},
   "source": [
    "Простите не разобрался из-за жуткой нехватки времени"
   ]
  },
  {
   "cell_type": "code",
   "execution_count": null,
   "id": "88f39238",
   "metadata": {},
   "outputs": [],
   "source": []
  }
 ],
 "metadata": {
  "kernelspec": {
   "display_name": "Python 3 (ipykernel)",
   "language": "python",
   "name": "python3"
  },
  "language_info": {
   "codemirror_mode": {
    "name": "ipython",
    "version": 3
   },
   "file_extension": ".py",
   "mimetype": "text/x-python",
   "name": "python",
   "nbconvert_exporter": "python",
   "pygments_lexer": "ipython3",
   "version": "3.9.12"
  }
 },
 "nbformat": 4,
 "nbformat_minor": 5
}
